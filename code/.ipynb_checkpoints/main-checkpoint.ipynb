{
 "cells": [
  {
   "cell_type": "code",
   "execution_count": 3,
   "metadata": {
    "collapsed": true
   },
   "outputs": [],
   "source": [
    "## Libraries \n",
    "import re\n",
    "from Bio import Entrez, SeqIO\n",
    "# from packages import orf_scan_analyze, query_proteins, blast_proteins\n",
    "import random\n",
    "import time"
   ]
  },
  {
   "cell_type": "code",
   "execution_count": 2,
   "metadata": {},
   "outputs": [
    {
     "data": {
      "text/plain": [
       "dict_keys(['DbList'])"
      ]
     },
     "execution_count": 2,
     "metadata": {},
     "output_type": "execute_result"
    }
   ],
   "source": [
    "Entrez.email = \"neel.mehtani@gmail.com\"\n",
    "handle = Entrez.einfo()\n",
    "\n",
    "record = Entrez.read(handle)\n",
    "handle.close()\n",
    "\n",
    "record.keys()"
   ]
  },
  {
   "cell_type": "code",
   "execution_count": 3,
   "metadata": {},
   "outputs": [
    {
     "data": {
      "text/plain": [
       "['pubmed', 'protein', 'nuccore', 'ipg', 'nucleotide', 'structure', 'genome', 'annotinfo', 'assembly', 'bioproject', 'biosample', 'blastdbinfo', 'books', 'cdd', 'clinvar', 'gap', 'gapplus', 'grasp', 'dbvar', 'gene', 'gds', 'geoprofiles', 'homologene', 'medgen', 'mesh', 'ncbisearch', 'nlmcatalog', 'omim', 'orgtrack', 'pmc', 'popset', 'proteinclusters', 'pcassay', 'protfam', 'biosystems', 'pccompound', 'pcsubstance', 'seqannot', 'snp', 'sra', 'taxonomy', 'biocollections', 'gtr']"
      ]
     },
     "execution_count": 3,
     "metadata": {},
     "output_type": "execute_result"
    }
   ],
   "source": [
    "record[\"DbList\"]"
   ]
  },
  {
   "cell_type": "code",
   "execution_count": 3,
   "metadata": {},
   "outputs": [
    {
     "data": {
      "text/plain": [
       "dict_keys(['Count', 'RetMax', 'RetStart', 'IdList', 'TranslationSet', 'TranslationStack', 'QueryTranslation'])"
      ]
     },
     "execution_count": 3,
     "metadata": {},
     "output_type": "execute_result"
    }
   ],
   "source": [
    "handle = Entrez.esearch(db=\"nucleotide\", term=\"Brassica napus\")\n",
    "\n",
    "record = Entrez.read(handle)\n",
    "handle.close()\n",
    "\n",
    "record.keys()"
   ]
  },
  {
   "cell_type": "code",
   "execution_count": 5,
   "metadata": {},
   "outputs": [
    {
     "data": {
      "text/plain": [
       "['937575234', '2194135529', '2193981524', '2191950016', '2191950006', '2191387657', '2191387649', '2191387642', '2191387633', '2191387610', '2191387605', '2191387595', '2191387586', '2191387579', '2191387573', '2191387564', '2191387556', '2191387550', '2191387542', '2191387535']"
      ]
     },
     "execution_count": 5,
     "metadata": {},
     "output_type": "execute_result"
    }
   ],
   "source": [
    "record[\"IdList\"]"
   ]
  },
  {
   "cell_type": "code",
   "execution_count": 4,
   "metadata": {},
   "outputs": [
    {
     "data": {
      "text/plain": [
       "Seq('TCAACCACAAAGTCAAAAAACCAAATCCATCCTTTTAATTTTAAAAAAAAGTAT...CGT')"
      ]
     },
     "execution_count": 4,
     "metadata": {},
     "output_type": "execute_result"
    }
   ],
   "source": [
    "## https://www.ncbi.nlm.nih.gov/Traces/wgs/?display=contigs&page=1\n",
    "Entrez.email = \"neel.mehtani@gmail.com\"\n",
    "handle = Entrez.efetch(db=\"nucleotide\", rettype=\"gb\", id=\"QGKT01000001\")\n",
    "record = SeqIO.read(handle, \"genbank\")\n",
    "record.seq"
   ]
  },
  {
   "cell_type": "code",
   "execution_count": 7,
   "metadata": {},
   "outputs": [
    {
     "name": "stdout",
     "output_type": "stream",
     "text": [
      "0.373899 Mb\n"
     ]
    }
   ],
   "source": [
    "print(len(record.seq)/1000000, \"Mb\")"
   ]
  },
  {
   "cell_type": "markdown",
   "metadata": {},
   "source": [
    "### Scan genomic strands for potential ORFs longer than 50 codons & translate to proteins"
   ]
  },
  {
   "cell_type": "code",
   "execution_count": 49,
   "metadata": {},
   "outputs": [
    {
     "name": "stderr",
     "output_type": "stream",
     "text": [
      "/Applications/anaconda3/lib/python3.6/site-packages/Bio/Seq.py:2983: BiopythonWarning: Partial codon, len(sequence) not a multiple of three. Explicitly trim the sequence or add trailing N before translation. This may become an error in future.\n",
      "  BiopythonWarning,\n"
     ]
    }
   ],
   "source": [
    "seq = record.seq\n",
    "\n",
    "table = 11\n",
    "min_pro_len = 50\n",
    "\n",
    "## Lists for ORF protein details\n",
    "orf_proteins = []\n",
    "protein_wts = []\n",
    "protein_lens = []\n",
    "\n",
    "## Start scan of both genomic strands\n",
    "for strand, nuc in [(+1, seq), (-1, seq.reverse_complement())]:\n",
    "    \n",
    "    ## Scan each possible frame\n",
    "    for frame in range(3):\n",
    "        \n",
    "        ## Transalte the frame\n",
    "        for pro in nuc[frame:].translate(table).split(\"*\"):\n",
    "            \n",
    "            if len(pro) >= min_pro_len:\n",
    "                \n",
    "                ## Run a protein \"param\" analysis -- returns molecular weight/amino acid freqs etc.\n",
    "                analysis = ProteinAnalysis(str(pro))\n",
    "                \n",
    "                ## Add protein details \n",
    "                orf_proteins.append(pro)\n",
    "                protein_wts.append(round(analysis.molecular_weight(), 3))\n",
    "                protein_lens.append(len(pro))\n",
    "                \n",
    "                ## Output to screen\n",
    "#                 print(\"%s...%s - length %i, strand %i, frame %i\" % (pro[:30], pro[-3:], len(pro), strand, frame))\n",
    "\n",
    "protein_wts = np.array(protein_wts)\n",
    "protein_lens = np.array(protein_lens)\n",
    "orf_proteins = np.array(orf_proteins, dtype='object')\n",
    "\n",
    "query_protein_idxs = np.where(protein_lens < 1000)[0][:]\n",
    "\n",
    "orf_proteins_arr = np.array(orf_proteins, dtype='object')\n",
    "query_proteins = orf_proteins_arr[query_protein_idxs]"
   ]
  },
  {
   "cell_type": "code",
   "execution_count": 50,
   "metadata": {},
   "outputs": [
    {
     "data": {
      "text/plain": [
       "(1449,)"
      ]
     },
     "execution_count": 50,
     "metadata": {},
     "output_type": "execute_result"
    }
   ],
   "source": [
    "query_protein_idxs.shape"
   ]
  },
  {
   "cell_type": "code",
   "execution_count": 32,
   "metadata": {},
   "outputs": [
    {
     "data": {
      "text/plain": [
       "array([Seq('VFGMLPNLCLLAGKQITKNPTTKPYKVGTTHPKNGDVVIFENPNYNNPNVSEQE...ICF'),\n",
       "       Seq('AVIKIKESTFPNVKPNSALVMILKQPKAWKSHRKQSFWFPQELKHLFLGTKFY')],\n",
       "      dtype=object)"
      ]
     },
     "execution_count": 32,
     "metadata": {},
     "output_type": "execute_result"
    }
   ],
   "source": [
    "query_proteins = orf_proteins_arr[query_protein_idxs]\n",
    "query_proteins[:2]"
   ]
  },
  {
   "cell_type": "markdown",
   "metadata": {},
   "source": [
    "### BLAST 5 Proteins of length <= 1000 amino acids"
   ]
  },
  {
   "cell_type": "code",
   "execution_count": 33,
   "metadata": {
    "collapsed": true
   },
   "outputs": [],
   "source": [
    "Entrez.email = \"neel.mehtani@gmail.com\"\n",
    "query_ct = 1\n",
    "for q in query_proteins:\n",
    "    \n",
    "    out_file = open(\"blast_{}.xml\".format(query_ct), \"w\") \n",
    "    blast_handle = NCBIWWW.qblast(\"blastp\", \"nr\", q)\n",
    "\n",
    "    out_file.write(blast_handle.read())\n",
    "    out_file.close()\n",
    "\n",
    "    blast_handle.close()\n",
    "    \n",
    "    result_handle = open(\"blast_{}.xml\".format(query_ct))\n",
    "    blast_records = NCBIXML.read(result_handle)\n",
    "    \n",
    "    save_file = open(\"BLAST_query_{}_result_log\".format(query_ct), \"w\")\n",
    "    save_file.write(\"BLAST Query #{} Results -- Sequence Example\\n\".format(query_ct) + \"--------------------------\" + \"\\n\\n\")\n",
    "\n",
    "    e_value_thresh = 0.25\n",
    "    \n",
    "    for alignment in blast_records.alignments:\n",
    "\n",
    "        for hsp in alignment.hsps:\n",
    "            if hsp.expect < e_value_thresh:\n",
    "                \n",
    "#                 content = [\"sequence: {} \\n\".format(alignment.title), \"length: {} \\n\".format(alignment.length),\n",
    "#                            \"E Value: {} \\n\".format(hsp.expect), \"{} ...  \\n\".format(hsp.query[0:20]), \"{} ...  \\n\".format(hsp.match[0:20]), \n",
    "#                            \"{} ...  \\n\".format(hsp.sbjct[0:20]), \"\\n\\n\"]\n",
    "                \n",
    "                save_file.write(\"sequence: {} \\n\".format(alignment.title))\n",
    "                save_file.write(\"length: {} \\n\".format(alignment.length))\n",
    "                save_file.write(\"E Value: {} \\n\".format(hsp.expect))\n",
    "                save_file.write(\"{} ...  \\n\".format(hsp.query[0:20]))\n",
    "                save_file.write(\"{} ...  \\n\".format(hsp.match[0:20]))\n",
    "                save_file.write(\"{} ...  \\n\".format(hsp.sbjct[0:20]))\n",
    "                save_file.write(\"\\n\\n\")\n",
    "            else:\n",
    "                save_file.write(\"NULL RESULT -- No hits returned!!\")\n",
    "    \n",
    "    result_handle.close()\n",
    "    query_ct += 1"
   ]
  },
  {
   "cell_type": "code",
   "execution_count": 4,
   "metadata": {
    "collapsed": true
   },
   "outputs": [],
   "source": [
    "## Libraries\n",
    "import numpy as np\n",
    "from Bio.SeqUtils.ProtParam import ProteinAnalysis\n",
    "from Bio.Blast import NCBIWWW, NCBIXML\n",
    "import random\n",
    "import time\n",
    "\n",
    "def orf_scan_analyze(seq, log_dir, min_pro_len=50, table=11):\n",
    "    \n",
    "    ## Lists for ORF protein details\n",
    "    orf_proteins = []\n",
    "    protein_wts = []\n",
    "    protein_lens = []\n",
    "    \n",
    "    ## Start scan of both genomic strands\n",
    "    for strand, nuc in [(+1, seq), (-1, seq.reverse_complement())]:\n",
    "    \n",
    "        ## Scan each possible frame\n",
    "        for frame in range(3):\n",
    "\n",
    "            ## Transalte the frame\n",
    "            for pro in nuc[frame:].translate(table).split(\"*\"):\n",
    "\n",
    "                if len(pro) >= min_pro_len:\n",
    "\n",
    "                    ## Run a protein \"param\" analysis -- returns molecular weight/amino acid freqs etc.\n",
    "                    analysis = ProteinAnalysis(str(pro))\n",
    "\n",
    "                    ## Add protein details \n",
    "                    orf_proteins.append(pro)\n",
    "                    protein_wts.append(round(analysis.molecular_weight(), 3))\n",
    "                    protein_lens.append(len(pro))\n",
    "                    \n",
    "                    # Output to screen\n",
    "                    # print(\"%s...%s - length %i, strand %i, frame %i\" % (pro[:30], pro[-3:], len(pro), strand, frame))\n",
    "\n",
    "    protein_wts = np.array(protein_wts)\n",
    "    protein_lens = np.array(protein_lens)\n",
    "    orf_proteins_arr = np.array(orf_proteins, dtype='object')\n",
    "\n",
    "    save_file_path = log_dir + \"/\" + \"protein_weights\"\n",
    "    save_file = open(save_file_path, \"w\")\n",
    "    save_file.write(\"Protein Molar Mass Results\\n\" + \"--------------------------------------------\" + \"\\n\\n\")\n",
    "    \n",
    "    for i in range(len(protein_wts)):\n",
    "        save_file.write(\"Protein \" + str(orf_proteins[i]) + \":  \" + str(protein_wts[i]) + \"\\n\\n\")\n",
    "\n",
    "    return orf_proteins_arr, protein_lens\n",
    "\n",
    "def query_proteins(orf_proteins, protein_lens):\n",
    "    \n",
    "    min_idxs = np.where(protein_lens < 1000)[0][:]\n",
    "    query_protein_idxs = np.random.choice(5, min_idxs)\n",
    "    query_proteins = orf_proteins[query_protein_idxs]\n",
    "    \n",
    "    return query_proteins\n",
    "\n",
    "def blast_proteins(query_proteins, log_dir, e_value_thresh=0.04):\n",
    "    \n",
    "    Entrez.email = \"neel.mehtani@gmail.com\"\n",
    "    query_ct = 1\n",
    "    \n",
    "    for q in query_proteins:\n",
    "        \n",
    "        out_file_path = log_dir + \"/\" + \"blast_{}.xml\".format(query_ct)\n",
    "        out_file = open(out_file_path, \"w\") \n",
    "        \n",
    "        blast_handle = NCBIWWW.qblast(\"blastp\", \"nr\", q)\n",
    "        out_file.write(blast_handle.read())\n",
    "        out_file.close()\n",
    "        blast_handle.close()\n",
    "\n",
    "        result_handle = open(out_file_path)\n",
    "        blast_records = NCBIXML.read(result_handle)\n",
    "        \n",
    "        save_file_path = log_dir + \"/\" + \"BLAST_query_{}_result_log\".format(query_ct)\n",
    "        save_file = open(save_file_path, \"w\")\n",
    "        save_file.write(\"BLAST Query #{} Results -- Sequence Example\\n\".format(query_ct) + \"----------------------------------------\" + \"\\n\\n\")\n",
    "        \n",
    "        for alignment in blast_records.alignments:\n",
    "\n",
    "            for hsp in alignment.hsps:\n",
    "                if hsp.expect < e_value_thresh:\n",
    "\n",
    "    #                 content = [\"sequence: {} \\n\".format(alignment.title), \"length: {} \\n\".format(alignment.length),\n",
    "    #                            \"E Value: {} \\n\".format(hsp.expect), \"{} ...  \\n\".format(hsp.query[0:20]), \"{} ...  \\n\".format(hsp.match[0:20]), \n",
    "    #                            \"{} ...  \\n\".format(hsp.sbjct[0:20]), \"\\n\\n\"]\n",
    "\n",
    "                    save_file.write(\"sequence: {} \\n\".format(alignment.title))\n",
    "                    save_file.write(\"length: {} \\n\".format(alignment.length))\n",
    "                    save_file.write(\"E Value: {} \\n\".format(hsp.expect))\n",
    "                    save_file.write(\"{} ...  \\n\".format(hsp.query[0:20]))\n",
    "                    save_file.write(\"{} ...  \\n\".format(hsp.match[0:20]))\n",
    "                    save_file.write(\"{} ...  \\n\".format(hsp.sbjct[0:20]))\n",
    "                    save_file.write(\"\\n\\n\")\n",
    "                else:\n",
    "                    save_file.write(\"NULL RESULT -- No hits returned!!\")\n",
    "\n",
    "        result_handle.close()\n",
    "        query_ct += 1\n",
    "\n",
    "    return "
   ]
  },
  {
   "cell_type": "code",
   "execution_count": 5,
   "metadata": {},
   "outputs": [
    {
     "name": "stderr",
     "output_type": "stream",
     "text": [
      "/Applications/anaconda3/lib/python3.6/site-packages/Bio/Seq.py:2983: BiopythonWarning: Partial codon, len(sequence) not a multiple of three. Explicitly trim the sequence or add trailing N before translation. This may become an error in future.\n",
      "  BiopythonWarning,\n"
     ]
    },
    {
     "ename": "ValueError",
     "evalue": "maximum supported dimension for an ndarray is 32, found 1449",
     "output_type": "error",
     "traceback": [
      "\u001b[0;31m---------------------------------------------------------------------------\u001b[0m",
      "\u001b[0;31mValueError\u001b[0m                                Traceback (most recent call last)",
      "\u001b[0;32m<ipython-input-5-97ad4dee1a64>\u001b[0m in \u001b[0;36m<module>\u001b[0;34m()\u001b[0m\n\u001b[1;32m     16\u001b[0m \u001b[0;34m\u001b[0m\u001b[0m\n\u001b[1;32m     17\u001b[0m \u001b[0morf_proteins_arr\u001b[0m\u001b[0;34m,\u001b[0m \u001b[0mprotein_lens\u001b[0m \u001b[0;34m=\u001b[0m \u001b[0morf_scan_analyze\u001b[0m\u001b[0;34m(\u001b[0m\u001b[0mseq\u001b[0m\u001b[0;34m,\u001b[0m \u001b[0mlog_dir\u001b[0m\u001b[0;34m,\u001b[0m \u001b[0mtable\u001b[0m\u001b[0;34m=\u001b[0m\u001b[0mtable\u001b[0m\u001b[0;34m)\u001b[0m\u001b[0;34m\u001b[0m\u001b[0m\n\u001b[0;32m---> 18\u001b[0;31m \u001b[0mq_proteins\u001b[0m \u001b[0;34m=\u001b[0m \u001b[0mquery_proteins\u001b[0m\u001b[0;34m(\u001b[0m\u001b[0morf_proteins_arr\u001b[0m\u001b[0;34m,\u001b[0m \u001b[0mprotein_lens\u001b[0m\u001b[0;34m)\u001b[0m\u001b[0;34m\u001b[0m\u001b[0m\n\u001b[0m\u001b[1;32m     19\u001b[0m \u001b[0mblast_proteins\u001b[0m\u001b[0;34m(\u001b[0m\u001b[0mq_proteins\u001b[0m\u001b[0;34m,\u001b[0m \u001b[0mlog_dir\u001b[0m\u001b[0;34m,\u001b[0m \u001b[0me_value_thresh\u001b[0m\u001b[0;34m=\u001b[0m\u001b[0mthreshold\u001b[0m\u001b[0;34m)\u001b[0m\u001b[0;34m\u001b[0m\u001b[0m\n",
      "\u001b[0;32m<ipython-input-4-f176417c7eb1>\u001b[0m in \u001b[0;36mquery_proteins\u001b[0;34m(orf_proteins, protein_lens)\u001b[0m\n\u001b[1;32m     51\u001b[0m \u001b[0;34m\u001b[0m\u001b[0m\n\u001b[1;32m     52\u001b[0m     \u001b[0mmin_idxs\u001b[0m \u001b[0;34m=\u001b[0m \u001b[0mnp\u001b[0m\u001b[0;34m.\u001b[0m\u001b[0mwhere\u001b[0m\u001b[0;34m(\u001b[0m\u001b[0mprotein_lens\u001b[0m \u001b[0;34m<\u001b[0m \u001b[0;36m1000\u001b[0m\u001b[0;34m)\u001b[0m\u001b[0;34m[\u001b[0m\u001b[0;36m0\u001b[0m\u001b[0;34m]\u001b[0m\u001b[0;34m[\u001b[0m\u001b[0;34m:\u001b[0m\u001b[0;34m]\u001b[0m\u001b[0;34m\u001b[0m\u001b[0m\n\u001b[0;32m---> 53\u001b[0;31m     \u001b[0mquery_protein_idxs\u001b[0m \u001b[0;34m=\u001b[0m \u001b[0mnp\u001b[0m\u001b[0;34m.\u001b[0m\u001b[0mrandom\u001b[0m\u001b[0;34m.\u001b[0m\u001b[0mchoice\u001b[0m\u001b[0;34m(\u001b[0m\u001b[0;36m5\u001b[0m\u001b[0;34m,\u001b[0m \u001b[0mmin_idxs\u001b[0m\u001b[0;34m)\u001b[0m\u001b[0;34m\u001b[0m\u001b[0m\n\u001b[0m\u001b[1;32m     54\u001b[0m     \u001b[0mquery_proteins\u001b[0m \u001b[0;34m=\u001b[0m \u001b[0morf_proteins\u001b[0m\u001b[0;34m[\u001b[0m\u001b[0mquery_protein_idxs\u001b[0m\u001b[0;34m]\u001b[0m\u001b[0;34m\u001b[0m\u001b[0m\n\u001b[1;32m     55\u001b[0m \u001b[0;34m\u001b[0m\u001b[0m\n",
      "\u001b[0;32mmtrand.pyx\u001b[0m in \u001b[0;36mnumpy.random.mtrand.RandomState.choice\u001b[0;34m()\u001b[0m\n",
      "\u001b[0;32mmtrand.pyx\u001b[0m in \u001b[0;36mnumpy.random.mtrand.RandomState.randint\u001b[0;34m()\u001b[0m\n",
      "\u001b[0;32m_bounded_integers.pyx\u001b[0m in \u001b[0;36mnumpy.random._bounded_integers._rand_int64\u001b[0;34m()\u001b[0m\n",
      "\u001b[0;31mValueError\u001b[0m: maximum supported dimension for an ndarray is 32, found 1449"
     ]
    }
   ],
   "source": [
    "## main\n",
    "\n",
    "random.seed(time.time())\n",
    "Entrez.email = \"neel.mehtani@gmail.com\"\n",
    "handle = Entrez.efetch(db=\"nucleotide\", rettype=\"gb\", id=\"QGKT01000001\")\n",
    "record = SeqIO.read(handle, \"genbank\")\n",
    "handle.close()\n",
    "\n",
    "seq = record.seq\n",
    "\n",
    "min_pro_len = 50\n",
    "table = 11\n",
    "threshold = 0.3\n",
    "\n",
    "log_dir = \"../data\"\n",
    "\n",
    "orf_proteins_arr, protein_lens = orf_scan_analyze(seq, log_dir, table=table)\n",
    "q_proteins = query_proteins(orf_proteins_arr, protein_lens)\n",
    "blast_proteins(q_proteins, log_dir, e_value_thresh=threshold)"
   ]
  },
  {
   "cell_type": "code",
   "execution_count": null,
   "metadata": {
    "collapsed": true
   },
   "outputs": [],
   "source": []
  }
 ],
 "metadata": {
  "kernelspec": {
   "display_name": "Python 3",
   "language": "python",
   "name": "python3"
  },
  "language_info": {
   "codemirror_mode": {
    "name": "ipython",
    "version": 3
   },
   "file_extension": ".py",
   "mimetype": "text/x-python",
   "name": "python",
   "nbconvert_exporter": "python",
   "pygments_lexer": "ipython3",
   "version": "3.6.3"
  }
 },
 "nbformat": 4,
 "nbformat_minor": 2
}
